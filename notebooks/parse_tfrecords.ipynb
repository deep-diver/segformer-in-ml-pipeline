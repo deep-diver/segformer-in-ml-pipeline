{
  "cells": [
    {
      "cell_type": "code",
      "execution_count": 1,
      "metadata": {
        "id": "IRfKTWTM0jN8"
      },
      "outputs": [],
      "source": [
        "import tensorflow as tf"
      ]
    },
    {
      "cell_type": "code",
      "execution_count": 7,
      "metadata": {
        "id": "ZjMq6BRh0r22"
      },
      "outputs": [],
      "source": [
        "GCS_PATH_FULL_RESOUTION = \"gs://sidewalks-tfx-fullres/sidewalks-tfrecords\"\n",
        "GCS_PATH_LOW_RESOLUTION = \"gs://sidewalks-tfx-lowres/sidewalks-tfrecords\"\n",
        "BATCH_SIZE = 4\n",
        "AUTO = tf.data.AUTOTUNE"
      ]
    },
    {
      "cell_type": "code",
      "execution_count": 11,
      "metadata": {
        "id": "Glk6M5zF0wml"
      },
      "outputs": [],
      "source": [
        "def parse_tfr(proto):\n",
        "    feature_description = {\n",
        "        \"image\": tf.io.VarLenFeature(tf.float32),\n",
        "        \"image_shape\": tf.io.VarLenFeature(tf.int64),\n",
        "        \"label\": tf.io.VarLenFeature(tf.float32),\n",
        "        \"label_shape\": tf.io.VarLenFeature(tf.int64),\n",
        "    }\n",
        "    rec = tf.io.parse_single_example(proto, feature_description)\n",
        "    image_shape = tf.sparse.to_dense(rec[\"image_shape\"])\n",
        "    image = tf.reshape(tf.sparse.to_dense(rec[\"image\"]), image_shape)\n",
        "    label_shape = tf.sparse.to_dense(rec[\"label_shape\"])\n",
        "    label = tf.reshape(tf.sparse.to_dense(rec[\"label\"]), label_shape)\n",
        "    return {\"pixel_values\": image, \"label\": label}\n",
        "\n",
        "\n",
        "def prepare_dataset(GCS_PATH=GCS_PATH_FULL_RESOUTION, split=\"train\", batch_size=BATCH_SIZE):\n",
        "    if split not in [\"train\", \"val\"]:\n",
        "        raise ValueError(\n",
        "            \"Invalid split provided. Supports splits are: `train` and `val`.\"\n",
        "        )\n",
        "\n",
        "    dataset = tf.data.TFRecordDataset(\n",
        "        [filename for filename in tf.io.gfile.glob(f\"{GCS_PATH}/{split}-*\")],\n",
        "        num_parallel_reads=AUTO,\n",
        "    ).map(parse_tfr, num_parallel_calls=AUTO)\n",
        "\n",
        "    if split == \"train\":\n",
        "        dataset = dataset.shuffle(batch_size * 2)\n",
        "\n",
        "    dataset = dataset.batch(batch_size)\n",
        "    dataset = dataset.prefetch(AUTO)\n",
        "    return dataset"
      ]
    },
    {
      "cell_type": "markdown",
      "metadata": {
        "id": "GSGK3Huj17eX"
      },
      "source": [
        "## Full Resolution Dataset"
      ]
    },
    {
      "cell_type": "code",
      "execution_count": 12,
      "metadata": {
        "id": "q5T9LhLd10J7"
      },
      "outputs": [],
      "source": [
        "train_dataset = prepare_dataset()\n",
        "val_dataset = prepare_dataset(split=\"val\")"
      ]
    },
    {
      "cell_type": "code",
      "execution_count": 13,
      "metadata": {
        "colab": {
          "base_uri": "https://localhost:8080/"
        },
        "id": "jtDasXiK2AZK",
        "outputId": "98cde9bf-41bf-4119-c25a-56a4c1312c16"
      },
      "outputs": [
        {
          "name": "stdout",
          "output_type": "stream",
          "text": [
            "(4, 1080, 1920, 3) (4, 1080, 1920)\n"
          ]
        }
      ],
      "source": [
        "for batch in train_dataset.take(1):\n",
        "    print(batch[\"pixel_values\"].shape, batch[\"label\"].shape)"
      ]
    },
    {
      "cell_type": "code",
      "execution_count": 14,
      "metadata": {
        "colab": {
          "base_uri": "https://localhost:8080/"
        },
        "id": "UgQ8txRV2hpB",
        "outputId": "c3b71c96-4a05-4e71-81b2-5a36f72e31f1"
      },
      "outputs": [
        {
          "name": "stdout",
          "output_type": "stream",
          "text": [
            "(4, 1080, 1920, 3) (4, 1080, 1920)\n"
          ]
        }
      ],
      "source": [
        "for batch in val_dataset.take(1):\n",
        "    print(batch[\"pixel_values\"].shape, batch[\"label\"].shape)"
      ]
    },
    {
      "cell_type": "markdown",
      "metadata": {
        "id": "MxrcR00_2NJo"
      },
      "source": [
        "## Low Resolution Dataset"
      ]
    },
    {
      "cell_type": "code",
      "execution_count": 15,
      "metadata": {
        "id": "TnDt3jBG2L1E"
      },
      "outputs": [],
      "source": [
        "train_dataset = prepare_dataset(GCS_PATH_LOW_RESOLUTION)\n",
        "val_dataset = prepare_dataset(GCS_PATH_LOW_RESOLUTION, split=\"val\")"
      ]
    },
    {
      "cell_type": "code",
      "execution_count": 16,
      "metadata": {
        "colab": {
          "base_uri": "https://localhost:8080/"
        },
        "id": "9twMOvs72T5W",
        "outputId": "deaae3c5-1a69-4dd7-e70a-1e02ad0885fe"
      },
      "outputs": [
        {
          "name": "stdout",
          "output_type": "stream",
          "text": [
            "(4, 256, 256, 3) (4, 256, 256)\n"
          ]
        }
      ],
      "source": [
        "for batch in train_dataset.take(1):\n",
        "    print(batch[\"pixel_values\"].shape, batch[\"label\"].shape)"
      ]
    },
    {
      "cell_type": "code",
      "execution_count": 17,
      "metadata": {
        "colab": {
          "base_uri": "https://localhost:8080/"
        },
        "id": "7ETv6qjf2VYj",
        "outputId": "ff670172-508e-4a87-dc9e-27183c5bea23"
      },
      "outputs": [
        {
          "name": "stdout",
          "output_type": "stream",
          "text": [
            "(4, 256, 256, 3) (4, 256, 256)\n"
          ]
        }
      ],
      "source": [
        "for batch in val_dataset.take(1):\n",
        "    print(batch[\"pixel_values\"].shape, batch[\"label\"].shape)"
      ]
    },
    {
      "cell_type": "code",
      "execution_count": null,
      "metadata": {
        "id": "varack1J2Vj-"
      },
      "outputs": [],
      "source": []
    }
  ],
  "metadata": {
    "colab": {
      "collapsed_sections": [],
      "name": "parse-tfrecords.ipynb",
      "provenance": []
    },
    "gpuClass": "standard",
    "kernelspec": {
      "display_name": "Python 3.10.7 64-bit",
      "language": "python",
      "name": "python3"
    },
    "language_info": {
      "codemirror_mode": {
        "name": "ipython",
        "version": 3
      },
      "file_extension": ".py",
      "mimetype": "text/x-python",
      "name": "python",
      "nbconvert_exporter": "python",
      "pygments_lexer": "ipython3",
      "version": "3.10.7"
    },
    "vscode": {
      "interpreter": {
        "hash": "eb4a0ac80907d7f44e1a5e88d3d3381b33e3dbedd3a24d113e876f30a0c46bee"
      }
    }
  },
  "nbformat": 4,
  "nbformat_minor": 0
}
