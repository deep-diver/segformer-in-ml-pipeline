{
  "cells": [
    {
      "cell_type": "code",
      "execution_count": 1,
      "metadata": {
        "id": "IRfKTWTM0jN8"
      },
      "outputs": [],
      "source": [
        "import tensorflow as tf"
      ]
    },
    {
      "cell_type": "code",
      "execution_count": 2,
      "metadata": {
        "id": "ZjMq6BRh0r22"
      },
      "outputs": [],
      "source": [
        "GCS_PATH = \"gs://pets-tfrecords/pets-tfrecords\"\n",
        "BATCH_SIZE = 4\n",
        "AUTO = tf.data.AUTOTUNE"
      ]
    },
    {
      "cell_type": "code",
      "execution_count": 3,
      "metadata": {
        "id": "Glk6M5zF0wml"
      },
      "outputs": [],
      "source": [
        "def parse_tfr(proto):\n",
        "    feature_description = {\n",
        "        \"image\": tf.io.VarLenFeature(tf.float32),\n",
        "        \"image_shape\": tf.io.VarLenFeature(tf.int64),\n",
        "        \"label\": tf.io.VarLenFeature(tf.float32),\n",
        "        \"label_shape\": tf.io.VarLenFeature(tf.int64),\n",
        "    }\n",
        "    rec = tf.io.parse_single_example(proto, feature_description)\n",
        "    image_shape = tf.sparse.to_dense(rec[\"image_shape\"])\n",
        "    image = tf.reshape(tf.sparse.to_dense(rec[\"image\"]), image_shape)\n",
        "    label_shape = tf.sparse.to_dense(rec[\"label_shape\"])\n",
        "    label = tf.reshape(tf.sparse.to_dense(rec[\"label\"]), label_shape)\n",
        "    return {\"pixel_values\": image, \"label\": label}\n",
        "\n",
        "\n",
        "def prepare_dataset(GCS_PATH=GCS_PATH, split=\"train\", batch_size=BATCH_SIZE):\n",
        "    if split not in [\"train\", \"val\"]:\n",
        "        raise ValueError(\n",
        "            \"Invalid split provided. Supports splits are: `train` and `val`.\"\n",
        "        )\n",
        "\n",
        "    dataset = tf.data.TFRecordDataset(\n",
        "        [filename for filename in tf.io.gfile.glob(f\"{GCS_PATH}/{split}-*\")],\n",
        "        num_parallel_reads=AUTO,\n",
        "    ).map(parse_tfr, num_parallel_calls=AUTO)\n",
        "\n",
        "    if split == \"train\":\n",
        "        dataset = dataset.shuffle(batch_size * 2)\n",
        "\n",
        "    dataset = dataset.batch(batch_size)\n",
        "    dataset = dataset.prefetch(AUTO)\n",
        "    return dataset"
      ]
    },
    {
      "cell_type": "markdown",
      "metadata": {
        "id": "GSGK3Huj17eX"
      },
      "source": [
        "## Check Validity of Dataset"
      ]
    },
    {
      "cell_type": "code",
      "execution_count": 4,
      "metadata": {
        "id": "q5T9LhLd10J7"
      },
      "outputs": [],
      "source": [
        "train_dataset = prepare_dataset()\n",
        "val_dataset = prepare_dataset(split=\"val\")"
      ]
    },
    {
      "cell_type": "code",
      "execution_count": 5,
      "metadata": {
        "colab": {
          "base_uri": "https://localhost:8080/"
        },
        "id": "jtDasXiK2AZK",
        "outputId": "15730a77-ba6e-401a-b263-f49e0eb197ec"
      },
      "outputs": [
        {
          "name": "stdout",
          "output_type": "stream",
          "text": [
            "(4, 128, 128, 3) (4, 128, 128)\n"
          ]
        }
      ],
      "source": [
        "for batch in train_dataset.take(1):\n",
        "    print(batch[\"pixel_values\"].shape, batch[\"label\"].shape)"
      ]
    },
    {
      "cell_type": "code",
      "execution_count": 6,
      "metadata": {
        "colab": {
          "base_uri": "https://localhost:8080/"
        },
        "id": "UgQ8txRV2hpB",
        "outputId": "72c0e10b-2c0d-485f-c0d4-dc6ce66c8a36"
      },
      "outputs": [
        {
          "name": "stdout",
          "output_type": "stream",
          "text": [
            "(4, 128, 128, 3) (4, 128, 128)\n"
          ]
        }
      ],
      "source": [
        "for batch in val_dataset.take(1):\n",
        "    print(batch[\"pixel_values\"].shape, batch[\"label\"].shape)"
      ]
    }
  ],
  "metadata": {
    "colab": {
      "collapsed_sections": [],
      "name": "parse-tfrecords.ipynb",
      "provenance": []
    },
    "gpuClass": "standard",
    "kernelspec": {
      "display_name": "Python 3.8.2 ('keras-io')",
      "language": "python",
      "name": "python3"
    },
    "language_info": {
      "codemirror_mode": {
        "name": "ipython",
        "version": 3
      },
      "file_extension": ".py",
      "mimetype": "text/x-python",
      "name": "python",
      "nbconvert_exporter": "python",
      "pygments_lexer": "ipython3",
      "version": "3.8.2"
    },
    "vscode": {
      "interpreter": {
        "hash": "e2d305ce7cd0384a806e1593585eb2c9440fc4f311ceabe0eabf88d87d0cc13f"
      }
    }
  },
  "nbformat": 4,
  "nbformat_minor": 0
}
