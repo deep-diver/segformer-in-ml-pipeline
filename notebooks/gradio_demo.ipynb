{
  "nbformat": 4,
  "nbformat_minor": 0,
  "metadata": {
    "colab": {
      "provenance": [],
      "collapsed_sections": []
    },
    "kernelspec": {
      "name": "python3",
      "display_name": "Python 3"
    },
    "language_info": {
      "name": "python"
    },
    "gpuClass": "standard"
  },
  "cells": [
    {
      "cell_type": "code",
      "execution_count": 1,
      "metadata": {
        "id": "htR5VyTB3EMw"
      },
      "outputs": [],
      "source": [
        "!pip install -q gradio"
      ]
    },
    {
      "cell_type": "code",
      "source": [
        "!mkdir ./tmp\n",
        "!gsutil -m cp -r \\\n",
        "  \"gs://gcp-ml-172005-complete-mlops/tfx_pipeline_output/segformer-training-pipeline/874401645461/segformer-training-pipeline-20220910042819/Trainer_-9039145015330209792/model/Format-Serving\" \\\n",
        "  ./tmp"
      ],
      "metadata": {
        "colab": {
          "base_uri": "https://localhost:8080/"
        },
        "id": "IxdQikQ64biu",
        "outputId": "55fcf451-1959-4364-fc08-767dd811e43f"
      },
      "execution_count": 2,
      "outputs": [
        {
          "output_type": "stream",
          "name": "stdout",
          "text": [
            "mkdir: cannot create directory ‘./tmp’: File exists\n",
            "Copying gs://gcp-ml-172005-complete-mlops/tfx_pipeline_output/segformer-training-pipeline/874401645461/segformer-training-pipeline-20220910042819/Trainer_-9039145015330209792/model/Format-Serving/variables/variables.index...\n",
            "Copying gs://gcp-ml-172005-complete-mlops/tfx_pipeline_output/segformer-training-pipeline/874401645461/segformer-training-pipeline-20220910042819/Trainer_-9039145015330209792/model/Format-Serving/variables/variables.data-00000-of-00001...\n",
            "Copying gs://gcp-ml-172005-complete-mlops/tfx_pipeline_output/segformer-training-pipeline/874401645461/segformer-training-pipeline-20220910042819/Trainer_-9039145015330209792/model/Format-Serving/keras_metadata.pb...\n",
            "Copying gs://gcp-ml-172005-complete-mlops/tfx_pipeline_output/segformer-training-pipeline/874401645461/segformer-training-pipeline-20220910042819/Trainer_-9039145015330209792/model/Format-Serving/saved_model.pb...\n"
          ]
        }
      ]
    },
    {
      "cell_type": "code",
      "source": [
        "model_path = \"model\"\n",
        "\n",
        "!mkdir {model_path}\n",
        "!cp -r tmp/Format-Serving/* {model_path}/"
      ],
      "metadata": {
        "colab": {
          "base_uri": "https://localhost:8080/"
        },
        "id": "Ax8wy09p4qgq",
        "outputId": "34857015-6674-4487-f86e-40c490b876b4"
      },
      "execution_count": 3,
      "outputs": [
        {
          "output_type": "stream",
          "name": "stdout",
          "text": [
            "mkdir: cannot create directory ‘model’: File exists\n"
          ]
        }
      ]
    },
    {
      "cell_type": "code",
      "source": [
        "!saved_model_cli show --dir {model_path} --tag_set serve --signature_def serving_default"
      ],
      "metadata": {
        "colab": {
          "base_uri": "https://localhost:8080/"
        },
        "id": "f2BbELdZ4yO0",
        "outputId": "89f78284-60a7-43dd-a0a6-a3b8a62a9b05"
      },
      "execution_count": 4,
      "outputs": [
        {
          "output_type": "stream",
          "name": "stdout",
          "text": [
            "The given SavedModel SignatureDef contains the following input(s):\n",
            "  inputs['string_input'] tensor_info:\n",
            "      dtype: DT_STRING\n",
            "      shape: (-1)\n",
            "      name: serving_default_string_input:0\n",
            "The given SavedModel SignatureDef contains the following output(s):\n",
            "  outputs['seg_mask'] tensor_info:\n",
            "      dtype: DT_INT64\n",
            "      shape: (-1, 128, 128)\n",
            "      name: StatefulPartitionedCall:0\n",
            "Method name is: tensorflow/serving/predict\n"
          ]
        }
      ]
    },
    {
      "cell_type": "code",
      "source": [
        "from PIL import Image \n",
        "import numpy as np \n",
        "import tensorflow as tf \n",
        "\n",
        "\n",
        "RESOLTUION = 128\n",
        "MODEL = tf.keras.models.load_model(model_path)\n",
        "\n",
        "\n",
        "def preprocess_input(image: Image) -> tf.Tensor:\n",
        "    image = np.array(image)\n",
        "    image = tf.convert_to_tensor(image)\n",
        "\n",
        "    image = tf.image.resize(image, (RESOLTUION, RESOLTUION))\n",
        "    image = image / 255\n",
        "\n",
        "    return tf.expand_dims(image, 0)\n",
        "\n",
        "\n",
        "# The below utilities (sidewalk_palette(), get_seg_overlay()) are from:\n",
        "# https://github.com/deep-diver/semantic-segmentation-ml-pipeline/blob/main/notebooks/inference_from_SavedModel.ipynb\n",
        "\n",
        "def sidewalk_palette():\n",
        "    \"\"\"Sidewalk palette that maps each class to RGB values.\"\"\"\n",
        "    return [\n",
        "        [0, 0, 0],\n",
        "        [216, 82, 24],\n",
        "        [255, 255, 0],\n",
        "        [125, 46, 141],\n",
        "        [118, 171, 47],\n",
        "        [161, 19, 46],\n",
        "        [255, 0, 0],\n",
        "        [0, 128, 128],\n",
        "        [190, 190, 0],\n",
        "        [0, 255, 0],\n",
        "        [0, 0, 255],\n",
        "        [170, 0, 255],\n",
        "        [84, 84, 0],\n",
        "        [84, 170, 0],\n",
        "        [84, 255, 0],\n",
        "        [170, 84, 0],\n",
        "        [170, 170, 0],\n",
        "        [170, 255, 0],\n",
        "        [255, 84, 0],\n",
        "        [255, 170, 0],\n",
        "        [255, 255, 0],\n",
        "        [33, 138, 200],\n",
        "        [0, 170, 127],\n",
        "        [0, 255, 127],\n",
        "        [84, 0, 127],\n",
        "        [84, 84, 127],\n",
        "        [84, 170, 127],\n",
        "        [84, 255, 127],\n",
        "        [170, 0, 127],\n",
        "        [170, 84, 127],\n",
        "        [170, 170, 127],\n",
        "        [170, 255, 127],\n",
        "        [255, 0, 127],\n",
        "        [255, 84, 127],\n",
        "        [255, 170, 127],\n",
        "    ]\n",
        "\n",
        "\n",
        "def get_seg_overlay(image, seg):\n",
        "    color_seg = np.zeros(\n",
        "        (seg.shape[0], seg.shape[1], 3), dtype=np.uint8\n",
        "    )  # height, width, 3\n",
        "    palette = np.array(sidewalk_palette())\n",
        "    \n",
        "    for label, color in enumerate(palette):\n",
        "        color_seg[seg == label, :] = color\n",
        "\n",
        "    # Show image + mask\n",
        "    img = np.array(image) * 0.5 + color_seg * 0.5\n",
        "\n",
        "    img *= 255\n",
        "    img = np.clip(img, 0, 255)\n",
        "    img = img.astype(np.uint8)\n",
        "    return img\n",
        "\n",
        "\n",
        "def run_model(image: Image) -> tf.Tensor:\n",
        "    preprocessed_image = preprocess_input(image)\n",
        "    prediction = MODEL.predict(preprocessed_image)\n",
        "\n",
        "    seg_mask = tf.math.argmax(prediction, -1)\n",
        "    seg_mask = tf.squeeze(seg_mask)\n",
        "    return seg_mask\n",
        "\n",
        "\n",
        "def get_predictions(image: Image):\n",
        "    predicted_segmentation_mask = run_model(image)\n",
        "    preprocessed_image = preprocess_input(image)\n",
        "    preprocessed_image = tf.squeeze(preprocessed_image, 0)\n",
        "    \n",
        "    pred_img = get_seg_overlay(preprocessed_image.numpy(), predicted_segmentation_mask.numpy())\n",
        "    return Image.fromarray(pred_img)"
      ],
      "metadata": {
        "id": "db8dneFo40vk"
      },
      "execution_count": 12,
      "outputs": []
    },
    {
      "cell_type": "code",
      "source": [
        "import gradio as gr\n",
        "\n",
        "title = \"Simple demo for a semantic segmentation model trained on the Sidewalks dataset.\"\n",
        "\n",
        "description = \"\"\"\n",
        "\n",
        "Note that the outputs obtained in this demo won't be state-of-the-art. The underlying project has a different objective focusing more on the ops side of\n",
        "deploying a semantic segmentation model. For more details, check out the repository: https://github.com/deep-diver/semantic-segmentation-ml-pipeline/.\n",
        "\n",
        "\"\"\"\n",
        "\n",
        "demo = gr.Interface(\n",
        "    get_predictions,\n",
        "    gr.inputs.Image(type=\"pil\"),\n",
        "    \"pil\",\n",
        "    allow_flagging=\"never\",\n",
        "    title=title,\n",
        "    description=description,\n",
        ")\n",
        "\n",
        "demo.launch(debug=True)"
      ],
      "metadata": {
        "colab": {
          "base_uri": "https://localhost:8080/",
          "height": 660
        },
        "id": "UdbLNOsa8BSN",
        "outputId": "13769921-4bc2-4a7d-b153-ae7f6bf580bf"
      },
      "execution_count": null,
      "outputs": [
        {
          "output_type": "stream",
          "name": "stderr",
          "text": [
            "/usr/local/lib/python3.7/dist-packages/gradio/inputs.py:257: UserWarning: Usage of gradio.inputs is deprecated, and will not be supported in the future, please import your component from gradio.components\n",
            "  \"Usage of gradio.inputs is deprecated, and will not be supported in the future, please import your component from gradio.components\",\n",
            "/usr/local/lib/python3.7/dist-packages/gradio/deprecation.py:40: UserWarning: `optional` parameter is deprecated, and it has no effect\n",
            "  warnings.warn(value)\n"
          ]
        },
        {
          "output_type": "stream",
          "name": "stdout",
          "text": [
            "Colab notebook detected. This cell will run indefinitely so that you can see errors and logs. To turn off, set debug=False in launch().\n",
            "Running on public URL: https://22644.gradio.app\n",
            "\n",
            "This share link expires in 72 hours. For free permanent hosting, check out Spaces: https://huggingface.co/spaces\n"
          ]
        },
        {
          "output_type": "display_data",
          "data": {
            "text/plain": [
              "<IPython.core.display.HTML object>"
            ],
            "text/html": [
              "<div><iframe src=\"https://22644.gradio.app\" width=\"900\" height=\"500\" allow=\"autoplay; camera; microphone;\" frameborder=\"0\" allowfullscreen></iframe></div>"
            ]
          },
          "metadata": {}
        }
      ]
    }
  ]
}